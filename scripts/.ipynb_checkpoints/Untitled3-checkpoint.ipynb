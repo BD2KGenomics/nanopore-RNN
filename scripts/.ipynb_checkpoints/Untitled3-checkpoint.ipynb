{
 "cells": [
  {
   "cell_type": "code",
   "execution_count": 129,
   "metadata": {
    "collapsed": true
   },
   "outputs": [],
   "source": [
    "import sys\n",
    "import os\n",
    "import numpy as np\n",
    "from Bio.Seq import Seq\n",
    "from Bio.Alphabet import generic_dna\n",
    "import glob\n",
    "import random\n",
    "import re"
   ]
  },
  {
   "cell_type": "code",
   "execution_count": null,
   "metadata": {
    "collapsed": true
   },
   "outputs": [],
   "source": [
    "#!/usr/bin/env python\n",
    "\"\"\"\n",
    "This is a place for small scripts and utility functions\n",
    "\"\"\"\n",
    "########################################################################\n",
    "# File: utils.py\n",
    "#  executable: utils.py\n",
    "# Purpose: maintain some simple functions as needed\n",
    "#   make sure all events are represented from output from signalalign\n",
    "\n",
    "#   stderr: errors and status\n",
    "#   stdout:\n",
    "#\n",
    "# Author: Rojin Safavi\n",
    "# History: 5/16/2017 Created\n",
    "import sys\n",
    "import os\n",
    "import numpy as np\n",
    "from Bio.Seq import Seq\n",
    "from Bio.Alphabet import generic_dna\n",
    "import glob\n",
    "import random\n",
    "\n",
    "#signalAlign\n",
    "def edit_reference(ref_path, ref_modified_path):\n",
    "    '''Get fast5 file and remove \\n from the ends'''\n",
    "    with open(ref_modified_path, 'w') as outfile, open(ref_path, 'r') as infile:\n",
    "        for line in infile:\n",
    "            if \">\" in line:\n",
    "                outfile.write(line)\n",
    "            else:\n",
    "                T = line.rstrip()\n",
    "                outfile.write(T)\n",
    "\n",
    "def get_motif_complement(motif):\n",
    "    '''get the complement of a motif'''\n",
    "    dna = Seq(motif)\n",
    "    motif_complement = str(dna.complement())\n",
    "    return motif_complement\n",
    "\n",
    "def make_Bed_file (reference_modified_Path, BED_file_path, motif1,modified_motif1,modified_motif1_comp, alphabet, motif2 = False, modified_motif2 = False, modified_motif2_comp = False):\n",
    "    sequence_list = \"\"\n",
    "    seq_name = \"\"\n",
    "    string1 = motif1[[i for i in range(len(motif1)) if motif1[i] != modified_motif1[i]][0]]\n",
    "    motif1_comp = get_motif_complement(motif1)\n",
    "    with open(reference_modified_Path, 'r') as infile:\n",
    "        for line in infile:\n",
    "            if \">\" in line:\n",
    "                 seq_name = seq_name + line.rsplit()[0].split(\">\")[1]\n",
    "            else:\n",
    "                sequence_list = sequence_list + line\n",
    "    with open(BED_file_path, \"w\") as output:\n",
    "        motif1_replaced = sequence_list.replace(motif1, modified_motif1)\n",
    "        motif1_position = [m.start() for m in re.finditer('M', motif1_replaced)]\n",
    "        motif1_comp_replaced = sequence_list.replace(motif1_comp, modified_motif1_comp)\n",
    "        motif1_comp_position = [m.start() for m in re.finditer('M', motif1_comp_replaced)]\n",
    "        if motif2 == False:\n",
    "            for i in motif1_position:\n",
    "                output.write(seq_name + \"\\t\" + np.str(i) + \"\\t\" + \"+\" + \"\\t\" + string1 +\"\\t\" + alphabet + \"\\n\")\n",
    "            for i in motif1_comp_position:\n",
    "                output.write(seq_name + \"\\t\" + np.str(i) + \"\\t\" + \"-\" + \"\\t\" + string1 +\"\\t\" + alphabet + \"\\n\")\n",
    "        elif motif2 != False:\n",
    "            motif2_comp = get_motif_complement(motif2)\n",
    "            motif_1and2_replaced = motif1_replaced.replace(motif2, modified_motif2)\n",
    "            motif_1and2_positions = [m.start() for m in re.finditer('M', motif_1and2_replaced)]\n",
    "            motif_1and2_comp_replaced = motif1_comp_replaced.replace(motif2_comp, modified_motif2_comp)\n",
    "            motif_1and2_comp_positions = [m.start() for m in re.finditer('M', motif_1and2_comp_replaced)]\n",
    "            for i in motif_1and2_positions:\n",
    "                output.write(seq_name + \"\\t\" + np.str(i) + \"\\t\" + \"+\" + \"\\t\" + string1 +\"\\t\" + alphabet + \"\\n\")\n",
    "            for i in motif_1and2_comp_positions:\n",
    "                output.write(seq_name + \"\\t\" + np.str(i) + \"\\t\" + \"-\" + \"\\t\" + string1 +\"\\t\" + \"E\" + \"\\n\")\n",
    "\n",
    "## Concatenate control and experimental assignments\n",
    "def concatenate_assignments (assignments_path1, assignments_path2, output):\n",
    "    '''concatenates control and experimental assignments'''\n",
    "    read_files = glob.glob(assignments_path1 + \"/*.assignments\") + glob.glob(assignments_path2 + \"/*.assignments\")\n",
    "    with open(output, \"w\") as outfile:\n",
    "        for f in read_files:\n",
    "            with open(f, \"rb\") as infile:\n",
    "                outfile.write(infile.read())\n",
    "\n",
    "## for each kmer in assignmnets get 50 assignment or less\n",
    "def get_sample_assignments(concatenated_assignmnets_path, sampled_assignments):\n",
    "    kmerDict = dict()\n",
    "    with open(concatenated_assignmnets_path, \"r\") as infile:\n",
    "        for i in infile:\n",
    "            key = i.split(\"\\t\")[0]\n",
    "            value = \"\\t\".join(i.split(\"\\t\")[1:])\n",
    "            if kmerDict.has_key(key):\n",
    "                kmerDict[key].append(value)\n",
    "            else:\n",
    "                kmerDict[key] = [value]\n",
    "    with open(sampled_assignments, \"w\") as outfile:\n",
    "        for key, value in kmerDict.iteritems():\n",
    "            mylist = kmerDict[key]\n",
    "            if len(mylist) >= 50:\n",
    "                rand_smpl = [mylist[i] for i in random.sample(range(len(mylist)),50)]\n",
    "                for g in rand_smpl:\n",
    "                    string = ''.join(g)\n",
    "                    outfile.write(key + \"\\t\" + string)\n",
    "            elif len(mylist) < 50:\n",
    "                rand_smpl = [mylist[i] for i in random.sample(range(len(mylist)),len(mylist))]\n",
    "                for g in rand_smpl:\n",
    "                    string = ''.join(g)\n",
    "                    outfile.write(key + \"\\t\" + string)\n",
    "\n"
   ]
  },
  {
   "cell_type": "code",
   "execution_count": 63,
   "metadata": {
    "collapsed": true
   },
   "outputs": [],
   "source": [
    "def get_motif_complement(motif):\n",
    "    '''get the complement of a motif, cuurrently works with A,T,C,G,E,X,O\n",
    "    ex: the complement of ATCO is TAGO'''\n",
    "    dna = Seq(motif)\n",
    "    motif_complement = str(dna.complement())\n",
    "    return motif_complement"
   ]
  },
  {
   "cell_type": "code",
   "execution_count": 69,
   "metadata": {
    "collapsed": false
   },
   "outputs": [],
   "source": [
    "def store_seq_and_name(reference_modified_Path): \n",
    "    sequence_list = \"\"\n",
    "    seq_name = \"\"\n",
    "    with open(reference_modified_Path, 'r') as infile:\n",
    "        for line in infile:\n",
    "            if \">\" in line:\n",
    "                seq_name = seq_name + line.rsplit()[0].split(\">\")[1]\n",
    "            else:\n",
    "                sequence_list = sequence_list + line\n",
    "    return seq_name,sequence_list"
   ]
  },
  {
   "cell_type": "code",
   "execution_count": 154,
   "metadata": {
    "collapsed": false
   },
   "outputs": [],
   "source": [
    "def replace_nucleotide(motif, modified):\n",
    "    modified_nuc = motif[[x for x in range(len(motif)) if motif[x] != modified[x]][0]]\n",
    "    return modified_nuc"
   ]
  },
  {
   "cell_type": "code",
   "execution_count": 143,
   "metadata": {
    "collapsed": true
   },
   "outputs": [],
   "source": [
    "def nuc_position(seq_str):\n",
    "    motif_position = [m.start() for m in re.finditer('F', seq_str)]\n",
    "    return motif_position"
   ]
  },
  {
   "cell_type": "code",
   "execution_count": 161,
   "metadata": {
    "collapsed": true
   },
   "outputs": [],
   "source": [
    "def make_bed_file(ref_modified_path, bed_path, char, *args):\n",
    "    seq_str_fwd = store_seq_and_name(ref_modified_path)[1]\n",
    "    seq_name = store_seq_and_name(ref_modified_path)[0]\n",
    "    seq_str_bwd = store_seq_and_name(ref_modified_path)[1]\n",
    "    for pair in args:\n",
    "        motif = pair[0]\n",
    "        modified = pair[1]\n",
    "        motif_comp = get_motif_complement(motif)\n",
    "        modified_comp = get_motif_complement(modified) \n",
    "        '''outputs the nucleotide that is been modified, it can be A,T,C, or G'''\n",
    "        modified_nuc = replace_nucleotide(motif, modified)\n",
    "        seq_str_fwd = seq_str_fwd.replace(motif,modified)\n",
    "        seq_str_bwd = seq_str_bwd.replace(motif_comp, modified_comp)\n",
    "        with open(bed_path, \"a\") as outfile:\n",
    "            nuc_positions = nuc_position(seq_str_fwd)\n",
    "            for pos in nuc_positions:\n",
    "                outfile.write(seq_name + \"\\t\" + np.str(pos) + \"\\t\" + \"+\" + \"\\t\" + modified_nuc +\"\\t\" + char + \"\\n\")\n",
    "            nuc_positions = nuc_position(seq_str_bwd)\n",
    "            for pos in nuc_positions:\n",
    "                outfile.write(seq_name + \"\\t\" + np.str(pos) + \"\\t\" + \"-\" + \"\\t\" + modified_nuc +\"\\t\" + char + \"\\n\")\n",
    " "
   ]
  },
  {
   "cell_type": "code",
   "execution_count": null,
   "metadata": {
    "collapsed": true
   },
   "outputs": [],
   "source": [
    "## Concatenate control and experimental assignments\n",
    "def concat_assignments (assignments_path1, assignments_path2, output):\n",
    "    '''concatenates control and experimental assignments'''\n",
    "    read_files = glob.glob(assignments_path1 + \"/*.assignments\") + glob.glob(assignments_path2 + \"/*.assignments\")\n",
    "    with open(output, \"w\") as outfile:\n",
    "        for f in read_files:\n",
    "            with open(f, \"rb\") as infile:\n",
    "                outfile.write(infile.read())"
   ]
  },
  {
   "cell_type": "code",
   "execution_count": null,
   "metadata": {
    "collapsed": true
   },
   "outputs": [],
   "source": [
    "## for each kmer in assignmnets get 50 assignment or less\n",
    "def get_sample_assignments(concat_assign_path, output_sampled):\n",
    "    kmerDict = dict()\n",
    "    with open(concat_assign_path, \"r\") as infile:\n",
    "        for i in infile:\n",
    "            key = i.split(\"\\t\")[0]\n",
    "            value = \"\\t\".join(i.split(\"\\t\")[1:])\n",
    "            if kmerDict.has_key(key):\n",
    "                kmerDict[key].append(value)\n",
    "            else:\n",
    "                kmerDict[key] = [value]\n",
    "    with open(output_sampled, \"w\") as outfile:\n",
    "        for key, value in kmerDict.iteritems():\n",
    "            mylist = kmerDict[key]\n",
    "            if len(mylist) >= 50:\n",
    "                rand_smpl = [mylist[i] for i in random.sample(range(len(mylist)),50)]\n",
    "                for g in rand_smpl:\n",
    "                    string = ''.join(g)\n",
    "                    outfile.write(key + \"\\t\" + string)\n",
    "            elif len(mylist) < 50:\n",
    "                rand_smpl = [mylist[i] for i in random.sample(range(len(mylist)),len(mylist))]\n",
    "                for g in rand_smpl:\n",
    "                    string = ''.join(g)\n",
    "                    outfile.write(key + \"\\t\" + string)"
   ]
  },
  {
   "cell_type": "code",
   "execution_count": null,
   "metadata": {
    "collapsed": true
   },
   "outputs": [],
   "source": [
    "args = [(\"CCAGG\",\"CFAGG\"), (\"CCTGG\",\"CFTGG\")]\n",
    "\n",
    "make_bed_file(\"/Users/rojinsafavi/Desktop/nanopore-RNN/Ecoli-reference/E.coli_K12-modified.fasta\",\"/Users/rojinsafavi/Desktop/nanopore-RNN/Ecoli-reference/cTOe\" , *args)"
   ]
  }
 ],
 "metadata": {
  "kernelspec": {
   "display_name": "Python 2",
   "language": "python",
   "name": "python2"
  },
  "language_info": {
   "codemirror_mode": {
    "name": "ipython",
    "version": 2
   },
   "file_extension": ".py",
   "mimetype": "text/x-python",
   "name": "python",
   "nbconvert_exporter": "python",
   "pygments_lexer": "ipython2",
   "version": "2.7.13"
  }
 },
 "nbformat": 4,
 "nbformat_minor": 2
}
